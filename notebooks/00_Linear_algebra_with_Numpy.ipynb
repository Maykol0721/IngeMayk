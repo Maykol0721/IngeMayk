{
  "cells": [
    {
      "cell_type": "markdown",
      "metadata": {
        "id": "view-in-github",
        "colab_type": "text"
      },
      "source": [
        "<a href=\"https://colab.research.google.com/github/Maykol0721/IngeMayk/blob/main/notebooks/00_Linear_algebra_with_Numpy.ipynb\" target=\"_parent\"><img src=\"https://colab.research.google.com/assets/colab-badge.svg\" alt=\"Open In Colab\"/></a>"
      ]
    },
    {
      "cell_type": "markdown",
      "metadata": {
        "id": "JMBVNjNHzX_4"
      },
      "source": [
        "# Linear algebra with Numpy\n",
        "\n",
        "Andrés Marrugo, PhD    \n",
        "Universidad Tecnológica de Bolívar\n",
        "\n",
        "Based on the jupyter notebook by [Vince Knight](https://github.com/drvinceknight/Python-Mathematics-Handbook)\n",
        "\n",
        "Many computer vision algorithms require numeric computations performed with matrices and these are best solved with [Numpy](http://www.numpy.org/) a high performance numerical computing library.\n",
        "\n",
        "Here is how it is described:\n",
        "\n",
        "> NumPy is the fundamental package for scientific computing with Python. It contains among other things: [...]\n",
        " useful linear algebra, Fourier transform, and random number capabilities.\n",
        "\n",
        "This notebook is a way to review several linear algebra concepts and to get acquainted with their computation in Python. In this section we will see how to:\n",
        "\n",
        "- Manipulate matrices;\n",
        "- Solve Matrix equations;\n",
        "- Calculate Matrix inverse and determinants.\n",
        "\n",
        "## Manipulating matrices\n",
        "\n",
        "It is straightforward to create a Matrix using Numpy. Let us consider the following as a examples:\n",
        "\n",
        "$$\n",
        "A = \\begin{pmatrix}\n",
        "5 & 6 & 2\\\\\n",
        "4 & 7 & 19\\\\\n",
        "0 & 3 & 12\n",
        "\\end{pmatrix}\n",
        "$$\n",
        "\n",
        "$$\n",
        "B = \\begin{pmatrix}\n",
        "14 & -2 & 12\\\\\n",
        "4 & 4 & 5\\\\\n",
        "5 & 5 & 1\n",
        "\\end{pmatrix}\n",
        "$$\n",
        "\n",
        "\n",
        "First, we need to import Numpy:"
      ]
    },
    {
      "cell_type": "code",
      "execution_count": 1185,
      "metadata": {
        "id": "1HHro_OBzX_6"
      },
      "outputs": [],
      "source": [
        "import numpy as np"
      ]
    },
    {
      "cell_type": "markdown",
      "metadata": {
        "id": "vsUBxK59zX_7"
      },
      "source": [
        "Now we can define $A$:"
      ]
    },
    {
      "cell_type": "code",
      "execution_count": 1186,
      "metadata": {
        "id": "eSkg-tpQzX_7"
      },
      "outputs": [],
      "source": [
        "A = np.array([[5, 6, 2],\n",
        "               [4, 7, 19],\n",
        "               [0, 3, 12]])"
      ]
    },
    {
      "cell_type": "code",
      "execution_count": 1187,
      "metadata": {
        "colab": {
          "base_uri": "https://localhost:8080/"
        },
        "id": "TdQ9DkFOzX_7",
        "outputId": "1bcacdbb-7d5b-46da-e62a-3ce356563e73"
      },
      "outputs": [
        {
          "output_type": "execute_result",
          "data": {
            "text/plain": [
              "array([[ 5,  6,  2],\n",
              "       [ 4,  7, 19],\n",
              "       [ 0,  3, 12]])"
            ]
          },
          "metadata": {},
          "execution_count": 1187
        }
      ],
      "source": [
        "A"
      ]
    },
    {
      "cell_type": "code",
      "execution_count": 1188,
      "metadata": {
        "id": "fD-GjflVzX_8"
      },
      "outputs": [],
      "source": [
        "B = np.array([[14, -2, 12],\n",
        "               [4, 4, 5],\n",
        "               [5, 5, 1]])"
      ]
    },
    {
      "cell_type": "code",
      "execution_count": 1189,
      "metadata": {
        "colab": {
          "base_uri": "https://localhost:8080/"
        },
        "id": "D8Hp2uj5zX_9",
        "outputId": "871b5591-0c98-4498-81e0-cb9f16e2288c"
      },
      "outputs": [
        {
          "output_type": "execute_result",
          "data": {
            "text/plain": [
              "array([[14, -2, 12],\n",
              "       [ 4,  4,  5],\n",
              "       [ 5,  5,  1]])"
            ]
          },
          "metadata": {},
          "execution_count": 1189
        }
      ],
      "source": [
        "B"
      ]
    },
    {
      "cell_type": "markdown",
      "metadata": {
        "id": "5q3uCE4nzX_-"
      },
      "source": [
        "We can obtain the following straightforwardly:\n",
        "\n",
        "- $5A$ (or any other scalar multiple of $A$);\n",
        "- $A ^ 3$ (or any other exponent of $A$);\n",
        "- $A + B$;\n",
        "- $A - B$;\n",
        "- $AB$"
      ]
    },
    {
      "cell_type": "code",
      "execution_count": 1190,
      "metadata": {
        "colab": {
          "base_uri": "https://localhost:8080/"
        },
        "id": "rCaVwm0KzX_-",
        "outputId": "ad43316f-a72f-44fa-a381-c0bbab21acd0"
      },
      "outputs": [
        {
          "output_type": "execute_result",
          "data": {
            "text/plain": [
              "array([[25, 30, 10],\n",
              "       [20, 35, 95],\n",
              "       [ 0, 15, 60]])"
            ]
          },
          "metadata": {},
          "execution_count": 1190
        }
      ],
      "source": [
        "5 * A"
      ]
    },
    {
      "cell_type": "code",
      "execution_count": 1191,
      "metadata": {
        "colab": {
          "base_uri": "https://localhost:8080/"
        },
        "id": "j_HeXWLFzX__",
        "outputId": "623eff5c-d67f-4ca7-86d2-61d6bb3e8aa4"
      },
      "outputs": [
        {
          "output_type": "execute_result",
          "data": {
            "text/plain": [
              "array([[ 125,  216,    8],\n",
              "       [  64,  343, 6859],\n",
              "       [   0,   27, 1728]])"
            ]
          },
          "metadata": {},
          "execution_count": 1191
        }
      ],
      "source": [
        "A ** 3"
      ]
    },
    {
      "cell_type": "code",
      "execution_count": 1192,
      "metadata": {
        "colab": {
          "base_uri": "https://localhost:8080/"
        },
        "id": "RFyFFs9HzX__",
        "outputId": "88d04481-224b-4f99-f831-7b29250162f2"
      },
      "outputs": [
        {
          "output_type": "execute_result",
          "data": {
            "text/plain": [
              "array([[19,  4, 14],\n",
              "       [ 8, 11, 24],\n",
              "       [ 5,  8, 13]])"
            ]
          },
          "metadata": {},
          "execution_count": 1192
        }
      ],
      "source": [
        "A + B"
      ]
    },
    {
      "cell_type": "code",
      "execution_count": 1193,
      "metadata": {
        "colab": {
          "base_uri": "https://localhost:8080/"
        },
        "id": "W3yKCRRrzYAA",
        "outputId": "29a904de-f209-4a5c-e417-0c7d8bb2b06a"
      },
      "outputs": [
        {
          "output_type": "execute_result",
          "data": {
            "text/plain": [
              "array([[ -9,   8, -10],\n",
              "       [  0,   3,  14],\n",
              "       [ -5,  -2,  11]])"
            ]
          },
          "metadata": {},
          "execution_count": 1193
        }
      ],
      "source": [
        "A - B"
      ]
    },
    {
      "cell_type": "code",
      "execution_count": 1194,
      "metadata": {
        "colab": {
          "base_uri": "https://localhost:8080/"
        },
        "id": "gxPdcRWXzYAB",
        "outputId": "5bd2a1a8-ee9a-4437-e76f-fe824cef6a8e"
      },
      "outputs": [
        {
          "output_type": "execute_result",
          "data": {
            "text/plain": [
              "array([[104,  24,  92],\n",
              "       [179, 115, 102],\n",
              "       [ 72,  72,  27]])"
            ]
          },
          "metadata": {},
          "execution_count": 1194
        }
      ],
      "source": [
        "A @ B"
      ]
    },
    {
      "cell_type": "markdown",
      "metadata": {
        "id": "dNHWoV4jRrJn"
      },
      "source": [
        "**Matrix multiplication.** Unfortunately, there are many ways to do [matrix multiplication in Python](https://blog.finxter.com/numpy-matmul-operator/ \"NumPy Matrix Multiplication — np.matmul() and @ [Ultimate Guide] | Finxter\"). The suggested way is to used the `@` operator because the `*` does not perform matrix multiplication.\n",
        "\n",
        "Check that `np.dot(A, B)` produces the same result."
      ]
    },
    {
      "cell_type": "code",
      "execution_count": 1195,
      "metadata": {
        "colab": {
          "base_uri": "https://localhost:8080/"
        },
        "id": "1T03saLyS38F",
        "outputId": "d54b47dd-c97c-417c-8c72-a92a7533591f"
      },
      "outputs": [
        {
          "output_type": "execute_result",
          "data": {
            "text/plain": [
              "array([[104,  24,  92],\n",
              "       [179, 115, 102],\n",
              "       [ 72,  72,  27]])"
            ]
          },
          "metadata": {},
          "execution_count": 1195
        }
      ],
      "source": [
        "np.dot(A, B)"
      ]
    },
    {
      "cell_type": "markdown",
      "metadata": {
        "id": "a5DNyfa30-fP"
      },
      "source": [
        "---\n",
        "\n",
        "**EXERCISE** Compute $A ^ 2 - 2 A + 3$ with:\n",
        "\n",
        "$$A =\n",
        "\\begin{pmatrix}\n",
        "1 & -1\\\\\n",
        "2 & 1\n",
        "\\end{pmatrix}\n",
        "$$\n",
        "\n",
        "---"
      ]
    },
    {
      "cell_type": "code",
      "execution_count": 1196,
      "metadata": {
        "id": "6vJiSS7_03yA"
      },
      "outputs": [],
      "source": [
        "# Write here the solution"
      ]
    },
    {
      "cell_type": "markdown",
      "source": [
        "Definimos la matriz A"
      ],
      "metadata": {
        "id": "VdntwV7HJCAb"
      }
    },
    {
      "cell_type": "code",
      "source": [
        "A = np.array([[1, -1],\n",
        "               [2, 1]])\n",
        "A"
      ],
      "metadata": {
        "colab": {
          "base_uri": "https://localhost:8080/"
        },
        "id": "OCqIAsX1JBFz",
        "outputId": "3d599044-2986-497b-838f-256eb5da413b"
      },
      "execution_count": 1197,
      "outputs": [
        {
          "output_type": "execute_result",
          "data": {
            "text/plain": [
              "array([[ 1, -1],\n",
              "       [ 2,  1]])"
            ]
          },
          "metadata": {},
          "execution_count": 1197
        }
      ]
    },
    {
      "cell_type": "markdown",
      "source": [
        "Se establecela primera parte de la expresión al elevar la matriz A al cuadrado\n"
      ],
      "metadata": {
        "id": "bbbmti-uMEuG"
      }
    },
    {
      "cell_type": "code",
      "source": [
        "A**2"
      ],
      "metadata": {
        "colab": {
          "base_uri": "https://localhost:8080/"
        },
        "id": "0Z--CmNEMi0m",
        "outputId": "c6349f65-ebdf-43a7-cc26-30c26dfe23e6"
      },
      "execution_count": 1198,
      "outputs": [
        {
          "output_type": "execute_result",
          "data": {
            "text/plain": [
              "array([[1, 1],\n",
              "       [4, 1]])"
            ]
          },
          "metadata": {},
          "execution_count": 1198
        }
      ]
    },
    {
      "cell_type": "markdown",
      "source": [
        "Se define la segunda sección de la expresión al multiplicar la matriz A por 2"
      ],
      "metadata": {
        "id": "Q_tC6J7SM0C-"
      }
    },
    {
      "cell_type": "code",
      "source": [
        "2*A"
      ],
      "metadata": {
        "colab": {
          "base_uri": "https://localhost:8080/"
        },
        "id": "G0GS2rDMM0wd",
        "outputId": "e5edbba5-e29a-40fa-91f8-19144984ddc0"
      },
      "execution_count": 1199,
      "outputs": [
        {
          "output_type": "execute_result",
          "data": {
            "text/plain": [
              "array([[ 2, -2],\n",
              "       [ 4,  2]])"
            ]
          },
          "metadata": {},
          "execution_count": 1199
        }
      ]
    },
    {
      "cell_type": "markdown",
      "source": [
        "Definir la matriz identidad"
      ],
      "metadata": {
        "id": "trrmTSfDKK_p"
      }
    },
    {
      "cell_type": "code",
      "source": [
        "I = np.array([[1, 0],\n",
        "              [0, 1]])"
      ],
      "metadata": {
        "id": "c8jX9kOeOqgz"
      },
      "execution_count": 1200,
      "outputs": []
    },
    {
      "cell_type": "code",
      "source": [
        "I"
      ],
      "metadata": {
        "colab": {
          "base_uri": "https://localhost:8080/"
        },
        "id": "pEC0smDqPJ5q",
        "outputId": "050cf5ef-5835-43cf-ec29-3638971104b1"
      },
      "execution_count": 1201,
      "outputs": [
        {
          "output_type": "execute_result",
          "data": {
            "text/plain": [
              "array([[1, 0],\n",
              "       [0, 1]])"
            ]
          },
          "metadata": {},
          "execution_count": 1201
        }
      ]
    },
    {
      "cell_type": "markdown",
      "source": [
        "Luego se agrega el término independiente, el cual es 3 para que asi quede expresado en matrices"
      ],
      "metadata": {
        "id": "PC9bxMUkPjQh"
      }
    },
    {
      "cell_type": "code",
      "source": [
        "3*I"
      ],
      "metadata": {
        "colab": {
          "base_uri": "https://localhost:8080/"
        },
        "id": "8z6sN8bmPeli",
        "outputId": "cc9e86b5-fbf9-46fb-d10c-ab77e3b83689"
      },
      "execution_count": 1202,
      "outputs": [
        {
          "output_type": "execute_result",
          "data": {
            "text/plain": [
              "array([[3, 0],\n",
              "       [0, 3]])"
            ]
          },
          "metadata": {},
          "execution_count": 1202
        }
      ]
    },
    {
      "cell_type": "markdown",
      "source": [
        "Finalmente se organiza toda la expresión"
      ],
      "metadata": {
        "id": "8Ds9FoPhPylZ"
      }
    },
    {
      "cell_type": "code",
      "source": [
        "A**2 - 2*A + 3*I"
      ],
      "metadata": {
        "colab": {
          "base_uri": "https://localhost:8080/"
        },
        "id": "fX_WhXamP9aJ",
        "outputId": "3dbc1661-bbbd-4b57-c514-f1f930cb8165"
      },
      "execution_count": 1203,
      "outputs": [
        {
          "output_type": "execute_result",
          "data": {
            "text/plain": [
              "array([[2, 3],\n",
              "       [0, 2]])"
            ]
          },
          "metadata": {},
          "execution_count": 1203
        }
      ]
    },
    {
      "cell_type": "markdown",
      "metadata": {
        "id": "X0XpdHLNzYAC"
      },
      "source": [
        "## Solving Matrix equations\n",
        "\n",
        "We can use Numpy to (efficiently) solve large systems of equations of the form:\n",
        "\n",
        "$$Ax=b$$\n",
        "\n",
        "Let us illustrate that with:\n",
        "\n",
        "$$\n",
        "A = \\begin{pmatrix}\n",
        "5 & 6 & 2\\\\\n",
        "4 & 7 & 19\\\\\n",
        "0 & 3 & 12\n",
        "\\end{pmatrix}\n",
        "$$\n",
        "\n",
        "$$\n",
        "b = \\begin{pmatrix}\n",
        "-1\\\\\n",
        "2\\\\\n",
        "1\n",
        "\\end{pmatrix}\n",
        "$$"
      ]
    },
    {
      "cell_type": "code",
      "execution_count": 1204,
      "metadata": {
        "id": "R1CALuF6zYAE"
      },
      "outputs": [],
      "source": [
        "A = np.array([[5, 6, 2],\n",
        "               [4, 7, 19],\n",
        "               [0, 3, 12]])\n",
        "b = np.array([[-1], [2], [1]])"
      ]
    },
    {
      "cell_type": "markdown",
      "metadata": {
        "id": "bnFh8G4MzYAG"
      },
      "source": [
        "We use the `linalg.solve` command:"
      ]
    },
    {
      "cell_type": "code",
      "execution_count": 1205,
      "metadata": {
        "colab": {
          "base_uri": "https://localhost:8080/"
        },
        "id": "aLgDeASqzYAH",
        "outputId": "95e02d29-2d42-461e-9d91-d7b32c80154d"
      },
      "outputs": [
        {
          "output_type": "execute_result",
          "data": {
            "text/plain": [
              "array([[ 0.45736434],\n",
              "       [-0.62790698],\n",
              "       [ 0.24031008]])"
            ]
          },
          "metadata": {},
          "execution_count": 1205
        }
      ],
      "source": [
        "x = np.linalg.solve(A, b)\n",
        "x"
      ]
    },
    {
      "cell_type": "markdown",
      "metadata": {
        "id": "3Abn5IkizYAI"
      },
      "source": [
        "We can verify our result:"
      ]
    },
    {
      "cell_type": "code",
      "execution_count": 1206,
      "metadata": {
        "colab": {
          "base_uri": "https://localhost:8080/"
        },
        "id": "puPXV8E8zYAI",
        "outputId": "9c286fd9-b3f3-4847-9faa-a8110488ce1f"
      },
      "outputs": [
        {
          "output_type": "execute_result",
          "data": {
            "text/plain": [
              "array([[-1.],\n",
              "       [ 2.],\n",
              "       [ 1.]])"
            ]
          },
          "metadata": {},
          "execution_count": 1206
        }
      ],
      "source": [
        "A @ x"
      ]
    },
    {
      "cell_type": "markdown",
      "metadata": {
        "id": "bcrHxjAA1TMe"
      },
      "source": [
        "---\n",
        "\n",
        "**EXERCISE** Compute the solutions to the matrix equation $Bx=b$ (using the $B$ defined earlier).\n",
        "\n",
        "---"
      ]
    },
    {
      "cell_type": "code",
      "execution_count": 1207,
      "metadata": {
        "id": "BopE0Js21UQZ"
      },
      "outputs": [],
      "source": [
        "# Write the solution here"
      ]
    },
    {
      "cell_type": "markdown",
      "source": [
        "Ilustramos la matriz B en cuestión"
      ],
      "metadata": {
        "id": "zfRIdKwSUr0q"
      }
    },
    {
      "cell_type": "code",
      "source": [
        "B = np.array([[14, -2, 12],\n",
        "               [4, 4, 5],\n",
        "               [5, 5, 1]])\n",
        "\n",
        "b = np.array([[-1], [2], [1]])"
      ],
      "metadata": {
        "id": "DDjn8XOoUsKq"
      },
      "execution_count": 1208,
      "outputs": []
    },
    {
      "cell_type": "markdown",
      "source": [
        "We use the linalg.solve command:"
      ],
      "metadata": {
        "id": "u99MjpTrXlBW"
      }
    },
    {
      "cell_type": "code",
      "source": [
        "x = np.linalg.solve(B, b)\n",
        "x"
      ],
      "metadata": {
        "colab": {
          "base_uri": "https://localhost:8080/"
        },
        "id": "lrAZX2XMXlYe",
        "outputId": "89d4ac9b-22da-4662-e7bc-c1d5dcdf0f7f"
      },
      "execution_count": 1209,
      "outputs": [
        {
          "output_type": "execute_result",
          "data": {
            "text/plain": [
              "array([[-0.25892857],\n",
              "       [ 0.40178571],\n",
              "       [ 0.28571429]])"
            ]
          },
          "metadata": {},
          "execution_count": 1209
        }
      ]
    },
    {
      "cell_type": "markdown",
      "source": [
        "We can verify our result:"
      ],
      "metadata": {
        "id": "eEXRodcUXZKW"
      }
    },
    {
      "cell_type": "code",
      "source": [
        "B @ x"
      ],
      "metadata": {
        "colab": {
          "base_uri": "https://localhost:8080/"
        },
        "id": "bwgKYYqhXyAl",
        "outputId": "a5bc685f-56f1-4821-c0e1-f4e45f6aecfb"
      },
      "execution_count": 1210,
      "outputs": [
        {
          "output_type": "execute_result",
          "data": {
            "text/plain": [
              "array([[-1.],\n",
              "       [ 2.],\n",
              "       [ 1.]])"
            ]
          },
          "metadata": {},
          "execution_count": 1210
        }
      ]
    },
    {
      "cell_type": "markdown",
      "metadata": {
        "id": "h0pN62P4zYAJ"
      },
      "source": [
        "## Matrix inversion and determinants\n",
        "\n",
        "Computing the inverse of a matrix is straightforward:"
      ]
    },
    {
      "cell_type": "code",
      "execution_count": 1211,
      "metadata": {
        "colab": {
          "base_uri": "https://localhost:8080/"
        },
        "id": "YkZVkHemzYAK",
        "outputId": "599865bc-93c0-4770-d536-85c9fc9423d6"
      },
      "outputs": [
        {
          "output_type": "execute_result",
          "data": {
            "text/plain": [
              "array([[-0.20930233,  0.51162791, -0.7751938 ],\n",
              "       [ 0.37209302, -0.46511628,  0.6744186 ],\n",
              "       [-0.09302326,  0.11627907, -0.08527132]])"
            ]
          },
          "metadata": {},
          "execution_count": 1211
        }
      ],
      "source": [
        "Ainv = np.linalg.inv(A)\n",
        "Ainv"
      ]
    },
    {
      "cell_type": "markdown",
      "metadata": {
        "id": "V92UrOm9zYAK"
      },
      "source": [
        "We can verify that $A^{-1}A=\\mathbb{1}$:"
      ]
    },
    {
      "cell_type": "code",
      "execution_count": 1212,
      "metadata": {
        "colab": {
          "base_uri": "https://localhost:8080/"
        },
        "id": "FDSczBjMzYAL",
        "outputId": "94b75c04-f4b5-4b2e-96e4-739e55fc91f2",
        "tags": [
          "nbval-ignore-output"
        ]
      },
      "outputs": [
        {
          "output_type": "execute_result",
          "data": {
            "text/plain": [
              "array([[ 1.00000000e+00,  4.99600361e-16, -4.71844785e-16],\n",
              "       [ 1.38777878e-16,  1.00000000e+00, -2.63677968e-16],\n",
              "       [ 1.11022302e-16,  1.11022302e-16,  1.00000000e+00]])"
            ]
          },
          "metadata": {},
          "execution_count": 1212
        }
      ],
      "source": [
        "A @ Ainv"
      ]
    },
    {
      "cell_type": "markdown",
      "metadata": {
        "id": "eme83ESCzYAL"
      },
      "source": [
        "The above might not look like the identity matrix but if you look closer you see that the diagonals are all `1` and the off diagonals are a **very** small number (which from a computer's point of view is `0`).\n",
        "\n",
        "We can also verify that `A @ Ainv` is close to the identity matrix `np.eye()` using the `np.allclose()` command."
      ]
    },
    {
      "cell_type": "code",
      "source": [
        "# Run this command to check that A @ Ainv is close to I\n",
        "np.allclose(A @ Ainv, np.eye(3,3))"
      ],
      "metadata": {
        "colab": {
          "base_uri": "https://localhost:8080/"
        },
        "id": "YFvYO4j98HGk",
        "outputId": "2601c92a-acef-4dee-dd71-aadeea475fd3"
      },
      "execution_count": 1213,
      "outputs": [
        {
          "output_type": "execute_result",
          "data": {
            "text/plain": [
              "True"
            ]
          },
          "metadata": {},
          "execution_count": 1213
        }
      ]
    },
    {
      "cell_type": "markdown",
      "metadata": {
        "id": "3zFLJ0bVzYAM"
      },
      "source": [
        "To calculate the determinant:"
      ]
    },
    {
      "cell_type": "code",
      "execution_count": 1214,
      "metadata": {
        "colab": {
          "base_uri": "https://localhost:8080/"
        },
        "id": "koPyt0w3zYAM",
        "outputId": "29e35057-2c64-41e4-837b-f4916dd8ffd5",
        "tags": [
          "nbval-ignore-output"
        ]
      },
      "outputs": [
        {
          "output_type": "execute_result",
          "data": {
            "text/plain": [
              "np.float64(-129.00000000000009)"
            ]
          },
          "metadata": {},
          "execution_count": 1214
        }
      ],
      "source": [
        "np.linalg.det(A)"
      ]
    },
    {
      "cell_type": "markdown",
      "metadata": {
        "id": "txxPAddm1hBS"
      },
      "source": [
        "---\n",
        "\n",
        "**EXERCISE** Compute the inverse and determinant of $B$ (defined previously).\n",
        "\n",
        "---"
      ]
    },
    {
      "cell_type": "code",
      "execution_count": 1215,
      "metadata": {
        "id": "InU_qgzM1iB4"
      },
      "outputs": [],
      "source": [
        "# Write the solution here"
      ]
    },
    {
      "cell_type": "markdown",
      "source": [
        "Computing the inverse of a matrix is straightforward:"
      ],
      "metadata": {
        "id": "GEpfOL3uxeF7"
      }
    },
    {
      "cell_type": "code",
      "source": [
        "Binv =  np.linalg.inv(B)\n",
        "Binv"
      ],
      "metadata": {
        "id": "qVYvBrkBxedb",
        "outputId": "399e4971-dd82-49a6-9cbf-f342a9c5d1c3",
        "colab": {
          "base_uri": "https://localhost:8080/"
        }
      },
      "execution_count": 1216,
      "outputs": [
        {
          "output_type": "execute_result",
          "data": {
            "text/plain": [
              "array([[ 6.25000000e-02, -1.84523810e-01,  1.72619048e-01],\n",
              "       [-6.25000000e-02,  1.36904762e-01,  6.54761905e-02],\n",
              "       [-1.09511795e-17,  2.38095238e-01, -1.90476190e-01]])"
            ]
          },
          "metadata": {},
          "execution_count": 1216
        }
      ]
    },
    {
      "cell_type": "markdown",
      "source": [
        "We can verify that $B^{-1}B=\\mathbb{1}$:"
      ],
      "metadata": {
        "id": "URp63IcdyTOr"
      }
    },
    {
      "cell_type": "code",
      "source": [
        "B @ Binv"
      ],
      "metadata": {
        "id": "ZNi51q-7yTji",
        "outputId": "e108e671-d3dc-40d4-de6d-f14fd706d31f",
        "colab": {
          "base_uri": "https://localhost:8080/"
        }
      },
      "execution_count": 1217,
      "outputs": [
        {
          "output_type": "execute_result",
          "data": {
            "text/plain": [
              "array([[ 1.00000000e+00,  0.00000000e+00,  1.11022302e-16],\n",
              "       [ 7.55253758e-19,  1.00000000e+00,  8.32667268e-17],\n",
              "       [ 4.45599717e-17, -3.33066907e-16,  1.00000000e+00]])"
            ]
          },
          "metadata": {},
          "execution_count": 1217
        }
      ]
    },
    {
      "cell_type": "markdown",
      "source": [
        "As with matrix A, the above may not look like the identity matrix, but upon closer inspection, we see that all diagonals are `1`, and the opposite diagonals are a very small number (which, from a computer's perspective, is 0).\n",
        "\n",
        "The `np.allclose` command is used again to verify that `B @ Binv` is close to the identity matrix `np.eye()`"
      ],
      "metadata": {
        "id": "Jz1leDa92BZj"
      }
    },
    {
      "cell_type": "markdown",
      "source": [
        "To calculate the determinant:"
      ],
      "metadata": {
        "id": "KwJtVpx4yk9a"
      }
    },
    {
      "cell_type": "code",
      "source": [
        "np.linalg.det(B)"
      ],
      "metadata": {
        "id": "aes7H4MnylRa",
        "outputId": "973965f0-cff4-458d-c4bb-868aab1b0fc0",
        "colab": {
          "base_uri": "https://localhost:8080/"
        }
      },
      "execution_count": 1218,
      "outputs": [
        {
          "output_type": "execute_result",
          "data": {
            "text/plain": [
              "np.float64(-336.0)"
            ]
          },
          "metadata": {},
          "execution_count": 1218
        }
      ]
    },
    {
      "cell_type": "markdown",
      "source": [
        "## Rotations\n",
        "\n",
        "Rotation is a fundamental operation in computer graphics, robotics, and many other fields. In this exercise, you will create a 2D rotation matrix and apply it to a set of points.\n",
        "\n"
      ],
      "metadata": {
        "id": "u9loI_iq_3rg"
      }
    },
    {
      "cell_type": "markdown",
      "source": [
        "Generate a set of points in 2D forming a square. You can do this manually or use the `np.mgrid` function."
      ],
      "metadata": {
        "id": "cBqutQ9QAKWC"
      }
    },
    {
      "cell_type": "code",
      "source": [
        "points = np.array([[1, 1, -1, -1, 1], [1, -1, -1, 1, 1]])"
      ],
      "metadata": {
        "id": "7fzb7QucAMv2"
      },
      "execution_count": 1219,
      "outputs": []
    },
    {
      "cell_type": "markdown",
      "source": [
        "Create a function that returns a 2D rotation matrix given an angle in degrees. The rotation matrix for a counterclockwise rotation by an angle $\\theta$ in 2D is:\n",
        "\n",
        "\\begin{bmatrix}\n",
        "\\cos(\\theta) & -\\sin(\\theta) \\\\\\\\\n",
        "\\sin(\\theta) & \\cos(\\theta)\n",
        "\\end{bmatrix}\n"
      ],
      "metadata": {
        "id": "vnt6X4Q_Azu3"
      }
    },
    {
      "cell_type": "code",
      "source": [
        "# Here is the function\n",
        "def rotation_matrix(theta):\n",
        "    theta_rad = np.deg2rad(theta)\n",
        "    R = np.array([[np.cos(theta_rad), -np.sin(theta_rad)],\n",
        "                  [np.sin(theta_rad), np.cos(theta_rad)]])\n",
        "    return R"
      ],
      "metadata": {
        "id": "R7gRsrlgA_zd"
      },
      "execution_count": 1220,
      "outputs": []
    },
    {
      "cell_type": "markdown",
      "source": [
        "Apply the rotation matrix to the set of points for a few different angles (e.g., 45, 90, 180 degrees) and plot the original points and the transformed points using `plt.plot()`. You should see the square rotate.\n",
        "\n",
        "Dont'forget to import matplotlib for plotting."
      ],
      "metadata": {
        "id": "hNlTNuq6BHic"
      }
    },
    {
      "cell_type": "code",
      "source": [
        "import matplotlib.pyplot as plt\n",
        "\n",
        "for theta in [45, 90, 180]:\n",
        "    R = rotation_matrix(theta)\n",
        "    rotated_points = R @ points\n",
        "    plt.figure()\n",
        "    plt.plot(points[0, :], points[1, :], 'b-', label='Original')\n",
        "    plt.plot(rotated_points[0, :], rotated_points[1, :], 'r-', label='Rotated')\n",
        "    plt.axis('equal')\n",
        "    plt.legend()\n",
        "    plt.title(f'Rotation by {theta} degrees')\n",
        "    plt.show()\n"
      ],
      "metadata": {
        "colab": {
          "base_uri": "https://localhost:8080/",
          "height": 1000
        },
        "id": "vVXSbXZ-BLEJ",
        "outputId": "1a4e7109-ce45-482b-e225-56bf2a5afb5e"
      },
      "execution_count": 1221,
      "outputs": [
        {
          "output_type": "display_data",
          "data": {
            "text/plain": [
              "<Figure size 640x480 with 1 Axes>"
            ],
            "image/png": "[encoded data removed]"
          },
          "metadata": {}
        },
        {
          "output_type": "display_data",
          "data": {
            "text/plain": [
              "<Figure size 640x480 with 1 Axes>"
            ],
            "image/png": "[encoded data removed]"
          },
          "metadata": {}
        },
        {
          "output_type": "display_data",
          "data": {
            "text/plain": [
              "<Figure size 640x480 with 1 Axes>"
            ],
            "image/png": "[encoded data removed]"
          },
          "metadata": {}
        }
      ]
    },
    {
      "cell_type": "markdown",
      "source": [
        "---\n",
        "\n",
        "**EXERCISE** Generate a triangle, and apply the same rotation. Observe how the shape changes with different rotation angles.\n",
        "\n",
        "---"
      ],
      "metadata": {
        "id": "9_wYLyRD_sYJ"
      }
    },
    {
      "cell_type": "code",
      "source": [
        "# Write the solution here"
      ],
      "metadata": {
        "id": "doaW5G78CKT7"
      },
      "execution_count": 1222,
      "outputs": []
    },
    {
      "cell_type": "markdown",
      "source": [
        "Se establecen los puntos necesarios para generar la figura del triangulo a la cual se le aplicara la rotación en distintos grados."
      ],
      "metadata": {
        "id": "rLqr0hy44MEa"
      }
    },
    {
      "cell_type": "code",
      "source": [
        "points = np.array([[1, 1, 0, 1], [1, -1, 0, 1]])"
      ],
      "metadata": {
        "id": "lWIHGVrN4MWS"
      },
      "execution_count": 1223,
      "outputs": []
    },
    {
      "cell_type": "markdown",
      "source": [
        "The same function is defined to return a 2D rotation matrix given an angle in degrees. The rotation matrix for a counterclockwise rotation of an angle $\\theta$ in 2D is:\n",
        "\n",
        "\\begin{bmatrix}\n",
        "\\cos(\\theta) & -\\sin(\\theta) \\\\\\\\\n",
        "\\sin(\\theta) & \\cos(\\theta)\n",
        "\\end{bmatrix}\n"
      ],
      "metadata": {
        "id": "U6sTMdTF73aE"
      }
    },
    {
      "cell_type": "code",
      "source": [
        "R"
      ],
      "metadata": {
        "id": "3SHcHXxA73tk",
        "outputId": "32f99f7f-ac99-493e-8083-5319651c9272",
        "colab": {
          "base_uri": "https://localhost:8080/"
        }
      },
      "execution_count": 1224,
      "outputs": [
        {
          "output_type": "execute_result",
          "data": {
            "text/plain": [
              "array([[-1.0000000e+00, -1.2246468e-16],\n",
              "       [ 1.2246468e-16, -1.0000000e+00]])"
            ]
          },
          "metadata": {},
          "execution_count": 1224
        }
      ]
    },
    {
      "cell_type": "code",
      "source": [
        "import matplotlib.pyplot as plt\n",
        "\n",
        "for theta in [45, 90, 180]:\n",
        "    R = rotation_matrix(theta)\n",
        "    rotated_points = R @ points\n",
        "    plt.figure()\n",
        "    plt.plot(points[0, :], points[1, :], 'b-', label='Original')\n",
        "    plt.plot(rotated_points[0, :], rotated_points[1, :], 'r-', label='Rotated')\n",
        "    plt.axis('equal')\n",
        "    plt.legend()\n",
        "    plt.title(f'Rotation by {theta} degrees')\n",
        "    plt.show()"
      ],
      "metadata": {
        "id": "8basBJrp82Qj",
        "outputId": "4907d4c0-7643-40f1-9162-913afe2eabae",
        "colab": {
          "base_uri": "https://localhost:8080/",
          "height": 1000
        }
      },
      "execution_count": 1225,
      "outputs": [
        {
          "output_type": "display_data",
          "data": {
            "text/plain": [
              "<Figure size 640x480 with 1 Axes>"
            ],
            "image/png": "[encoded data removed]"
          },
          "metadata": {}
        },
        {
          "output_type": "display_data",
          "data": {
            "text/plain": [
              "<Figure size 640x480 with 1 Axes>"
            ],
            "image/png": "[encoded data removed]"
          },
          "metadata": {}
        },
        {
          "output_type": "display_data",
          "data": {
            "text/plain": [
              "<Figure size 640x480 with 1 Axes>"
            ],
            "image/png": "[encoded data removed]"
          },
          "metadata": {}
        }
      ]
    },
    {
      "cell_type": "markdown",
      "source": [
        "## Exercise for Graduate students: Image Compression and Reconstruction using SVD\n",
        "\n",
        "Use Singular Value Decomposition (SVD) to compress and reconstruct an image, exploring the trade-offs between compression ratio and image quality. This exercise will highlight the utility of SVD in practical image processing tasks."
      ],
      "metadata": {
        "id": "9vwRIogicYyU"
      }
    },
    {
      "cell_type": "markdown",
      "source": [
        "### Steps\n",
        "\n",
        "#### 1. Image Preparation\n",
        "- Load a grayscale image into a Numpy array.\n",
        "- Display the original image.\n",
        "\n",
        "#### 2. Applying SVD\n",
        "- Perform SVD on the image matrix to obtain U, Σ, and V^T.\n",
        "- Display the shapes of U, Σ, and V^T.\n",
        "\n",
        "#### 3. Image Compression\n",
        "- Choose a set of singular values (e.g., first 10, 20).\n",
        "- Reconstruct the image using only the chosen singular values.\n",
        "- Repeat with different numbers of singular values to explore different compression levels.\n",
        "\n",
        "#### 4. Visualization and Analysis\n",
        "- Display original and compressed images side by side.\n",
        "- Discuss the compression ratio and impact on image quality for each compression level.\n",
        "\n",
        "#### 5. Advanced Exploration (Optional)\n",
        "- Test the compression on different image types.\n",
        "- Explore SVD in noise reduction by altering singular values before reconstruction.\n",
        "\n",
        "### Requirements\n",
        "- Use Numpy for SVD and matrix operations.\n",
        "- Use matplotlib or similar for image handling.\n",
        "- Provide explanations for each step, emphasizing the principles and applications of SVD."
      ],
      "metadata": {
        "id": "cmCSCJeic7Ni"
      }
    },
    {
      "cell_type": "code",
      "source": [
        "# Write the solution here"
      ],
      "metadata": {
        "id": "YjezAlr-dSYM"
      },
      "execution_count": 1226,
      "outputs": []
    },
    {
      "cell_type": "markdown",
      "metadata": {
        "id": "N3MPDa5UzYAN"
      },
      "source": [
        "## Summary\n",
        "\n",
        "In this section we have seen how to using Numpy:\n",
        "\n",
        "- Manipulate matrices;\n",
        "- Solve linear systems;\n",
        "- Compute Matrix inverses and determinants.\n",
        "\n",
        "This again just touches on the capabilities of Numpy. For more information please refer to this [Python tutorial.](https://github.com/kuleshov/teaching-material/blob/master/tutorials/python/cs228-python-tutorial.ipynb)"
      ]
    }
  ],
  "metadata": {
    "anaconda-cloud": {},
    "celltoolbar": "Tags",
    "colab": {
      "provenance": [],
      "include_colab_link": true
    },
    "kernelspec": {
      "display_name": "Python 3 (ipykernel)",
      "language": "python",
      "name": "python3"
    },
    "language_info": {
      "codemirror_mode": {
        "name": "ipython",
        "version": 3
      },
      "file_extension": ".py",
      "mimetype": "text/x-python",
      "name": "python",
      "nbconvert_exporter": "python",
      "pygments_lexer": "ipython3",
      "version": "3.9.12"
    }
  },
  "nbformat": 4,
  "nbformat_minor": 0
}