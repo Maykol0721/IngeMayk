{
  "cells": [
    {
      "cell_type": "markdown",
      "metadata": {
        "id": "view-in-github",
        "colab_type": "text"
      },
      "source": [
        "<a href=\"https://colab.research.google.com/github/Maykol0721/IngeMayk/blob/main/notebooks/00_Linear_algebra_with_Numpy.ipynb\" target=\"_parent\"><img src=\"https://colab.research.google.com/assets/colab-badge.svg\" alt=\"Open In Colab\"/></a>"
      ]
    },
    {
      "cell_type": "markdown",
      "metadata": {
        "id": "JMBVNjNHzX_4"
      },
      "source": [
        "# Linear algebra with Numpy\n",
        "\n",
        "Andrés Marrugo, PhD    \n",
        "Universidad Tecnológica de Bolívar\n",
        "\n",
        "Based on the jupyter notebook by [Vince Knight](https://github.com/drvinceknight/Python-Mathematics-Handbook)\n",
        "\n",
        "Many computer vision algorithms require numeric computations performed with matrices and these are best solved with [Numpy](http://www.numpy.org/) a high performance numerical computing library.\n",
        "\n",
        "Here is how it is described:\n",
        "\n",
        "> NumPy is the fundamental package for scientific computing with Python. It contains among other things: [...]\n",
        " useful linear algebra, Fourier transform, and random number capabilities.\n",
        "\n",
        "This notebook is a way to review several linear algebra concepts and to get acquainted with their computation in Python. In this section we will see how to:\n",
        "\n",
        "- Manipulate matrices;\n",
        "- Solve Matrix equations;\n",
        "- Calculate Matrix inverse and determinants.\n",
        "\n",
        "## Manipulating matrices\n",
        "\n",
        "It is straightforward to create a Matrix using Numpy. Let us consider the following as a examples:\n",
        "\n",
        "$$\n",
        "A = \\begin{pmatrix}\n",
        "5 & 6 & 2\\\\\n",
        "4 & 7 & 19\\\\\n",
        "0 & 3 & 12\n",
        "\\end{pmatrix}\n",
        "$$\n",
        "\n",
        "$$\n",
        "B = \\begin{pmatrix}\n",
        "14 & -2 & 12\\\\\n",
        "4 & 4 & 5\\\\\n",
        "5 & 5 & 1\n",
        "\\end{pmatrix}\n",
        "$$\n",
        "\n",
        "\n",
        "First, we need to import Numpy:"
      ]
    },
    {
      "cell_type": "code",
      "execution_count": 434,
      "metadata": {
        "id": "1HHro_OBzX_6"
      },
      "outputs": [],
      "source": [
        "import numpy as np"
      ]
    },
    {
      "cell_type": "markdown",
      "metadata": {
        "id": "vsUBxK59zX_7"
      },
      "source": [
        "Now we can define $A$:"
      ]
    },
    {
      "cell_type": "code",
      "execution_count": 435,
      "metadata": {
        "id": "eSkg-tpQzX_7"
      },
      "outputs": [],
      "source": [
        "A = np.array([[5, 6, 2],\n",
        "               [4, 7, 19],\n",
        "               [0, 3, 12]])"
      ]
    },
    {
      "cell_type": "code",
      "execution_count": 436,
      "metadata": {
        "colab": {
          "base_uri": "https://localhost:8080/"
        },
        "id": "TdQ9DkFOzX_7",
        "outputId": "a13b5f4c-b59e-4793-878c-f8faca40ec10"
      },
      "outputs": [
        {
          "output_type": "execute_result",
          "data": {
            "text/plain": [
              "array([[ 5,  6,  2],\n",
              "       [ 4,  7, 19],\n",
              "       [ 0,  3, 12]])"
            ]
          },
          "metadata": {},
          "execution_count": 436
        }
      ],
      "source": [
        "A"
      ]
    },
    {
      "cell_type": "code",
      "execution_count": 437,
      "metadata": {
        "id": "fD-GjflVzX_8"
      },
      "outputs": [],
      "source": [
        "B = np.array([[14, -2, 12],\n",
        "               [4, 4, 5],\n",
        "               [5, 5, 1]])"
      ]
    },
    {
      "cell_type": "code",
      "execution_count": 438,
      "metadata": {
        "colab": {
          "base_uri": "https://localhost:8080/"
        },
        "id": "D8Hp2uj5zX_9",
        "outputId": "e9a1a867-a704-49c2-80c5-58e605518200"
      },
      "outputs": [
        {
          "output_type": "execute_result",
          "data": {
            "text/plain": [
              "array([[14, -2, 12],\n",
              "       [ 4,  4,  5],\n",
              "       [ 5,  5,  1]])"
            ]
          },
          "metadata": {},
          "execution_count": 438
        }
      ],
      "source": [
        "B"
      ]
    },
    {
      "cell_type": "markdown",
      "metadata": {
        "id": "5q3uCE4nzX_-"
      },
      "source": [
        "We can obtain the following straightforwardly:\n",
        "\n",
        "- $5A$ (or any other scalar multiple of $A$);\n",
        "- $A ^ 3$ (or any other exponent of $A$);\n",
        "- $A + B$;\n",
        "- $A - B$;\n",
        "- $AB$"
      ]
    },
    {
      "cell_type": "code",
      "execution_count": 439,
      "metadata": {
        "colab": {
          "base_uri": "https://localhost:8080/"
        },
        "id": "rCaVwm0KzX_-",
        "outputId": "99693432-6c27-41e5-f4c3-e14c896cf8a5"
      },
      "outputs": [
        {
          "output_type": "execute_result",
          "data": {
            "text/plain": [
              "array([[25, 30, 10],\n",
              "       [20, 35, 95],\n",
              "       [ 0, 15, 60]])"
            ]
          },
          "metadata": {},
          "execution_count": 439
        }
      ],
      "source": [
        "5 * A"
      ]
    },
    {
      "cell_type": "code",
      "execution_count": 440,
      "metadata": {
        "colab": {
          "base_uri": "https://localhost:8080/"
        },
        "id": "j_HeXWLFzX__",
        "outputId": "bae7df62-1ef8-467d-cd5a-daec75c2fbc9"
      },
      "outputs": [
        {
          "output_type": "execute_result",
          "data": {
            "text/plain": [
              "array([[ 125,  216,    8],\n",
              "       [  64,  343, 6859],\n",
              "       [   0,   27, 1728]])"
            ]
          },
          "metadata": {},
          "execution_count": 440
        }
      ],
      "source": [
        "A ** 3"
      ]
    },
    {
      "cell_type": "code",
      "execution_count": 441,
      "metadata": {
        "colab": {
          "base_uri": "https://localhost:8080/"
        },
        "id": "RFyFFs9HzX__",
        "outputId": "39093f22-5865-4d0f-8cb1-6024d7dcfb45"
      },
      "outputs": [
        {
          "output_type": "execute_result",
          "data": {
            "text/plain": [
              "array([[19,  4, 14],\n",
              "       [ 8, 11, 24],\n",
              "       [ 5,  8, 13]])"
            ]
          },
          "metadata": {},
          "execution_count": 441
        }
      ],
      "source": [
        "A + B"
      ]
    },
    {
      "cell_type": "code",
      "execution_count": 442,
      "metadata": {
        "colab": {
          "base_uri": "https://localhost:8080/"
        },
        "id": "W3yKCRRrzYAA",
        "outputId": "af445d11-7f94-4f33-a238-2050e1a06639"
      },
      "outputs": [
        {
          "output_type": "execute_result",
          "data": {
            "text/plain": [
              "array([[ -9,   8, -10],\n",
              "       [  0,   3,  14],\n",
              "       [ -5,  -2,  11]])"
            ]
          },
          "metadata": {},
          "execution_count": 442
        }
      ],
      "source": [
        "A - B"
      ]
    },
    {
      "cell_type": "code",
      "execution_count": 443,
      "metadata": {
        "colab": {
          "base_uri": "https://localhost:8080/"
        },
        "id": "gxPdcRWXzYAB",
        "outputId": "f319543c-e9b6-405b-8266-03150ab4adb4"
      },
      "outputs": [
        {
          "output_type": "execute_result",
          "data": {
            "text/plain": [
              "array([[104,  24,  92],\n",
              "       [179, 115, 102],\n",
              "       [ 72,  72,  27]])"
            ]
          },
          "metadata": {},
          "execution_count": 443
        }
      ],
      "source": [
        "A @ B"
      ]
    },
    {
      "cell_type": "markdown",
      "metadata": {
        "id": "dNHWoV4jRrJn"
      },
      "source": [
        "**Matrix multiplication.** Unfortunately, there are many ways to do [matrix multiplication in Python](https://blog.finxter.com/numpy-matmul-operator/ \"NumPy Matrix Multiplication — np.matmul() and @ [Ultimate Guide] | Finxter\"). The suggested way is to used the `@` operator because the `*` does not perform matrix multiplication.\n",
        "\n",
        "Check that `np.dot(A, B)` produces the same result."
      ]
    },
    {
      "cell_type": "code",
      "execution_count": 444,
      "metadata": {
        "colab": {
          "base_uri": "https://localhost:8080/"
        },
        "id": "1T03saLyS38F",
        "outputId": "7364c024-71a7-4b94-a884-50f4fb087dac"
      },
      "outputs": [
        {
          "output_type": "execute_result",
          "data": {
            "text/plain": [
              "array([[104,  24,  92],\n",
              "       [179, 115, 102],\n",
              "       [ 72,  72,  27]])"
            ]
          },
          "metadata": {},
          "execution_count": 444
        }
      ],
      "source": [
        "np.dot(A, B)"
      ]
    },
    {
      "cell_type": "markdown",
      "metadata": {
        "id": "a5DNyfa30-fP"
      },
      "source": [
        "---\n",
        "\n",
        "**EXERCISE** Compute $A ^ 2 - 2 A + 3$ with:\n",
        "\n",
        "$$A =\n",
        "\\begin{pmatrix}\n",
        "1 & -1\\\\\n",
        "2 & 1\n",
        "\\end{pmatrix}\n",
        "$$\n",
        "\n",
        "---"
      ]
    },
    {
      "cell_type": "code",
      "execution_count": 445,
      "metadata": {
        "id": "6vJiSS7_03yA"
      },
      "outputs": [],
      "source": [
        "# Write here the solution"
      ]
    },
    {
      "cell_type": "markdown",
      "source": [
        "Definimos la matriz A"
      ],
      "metadata": {
        "id": "VdntwV7HJCAb"
      }
    },
    {
      "cell_type": "code",
      "source": [
        "A = np.array([[1, -1],\n",
        "               [2, 1]])\n",
        "A"
      ],
      "metadata": {
        "colab": {
          "base_uri": "https://localhost:8080/"
        },
        "id": "OCqIAsX1JBFz",
        "outputId": "63f8b7d1-6244-4219-e58a-845801bf0a45"
      },
      "execution_count": 446,
      "outputs": [
        {
          "output_type": "execute_result",
          "data": {
            "text/plain": [
              "array([[ 1, -1],\n",
              "       [ 2,  1]])"
            ]
          },
          "metadata": {},
          "execution_count": 446
        }
      ]
    },
    {
      "cell_type": "markdown",
      "source": [
        "Se establecela primera parte de la expresión al elevar la matriz A al cuadrado\n"
      ],
      "metadata": {
        "id": "bbbmti-uMEuG"
      }
    },
    {
      "cell_type": "code",
      "source": [
        "A**2"
      ],
      "metadata": {
        "colab": {
          "base_uri": "https://localhost:8080/"
        },
        "id": "0Z--CmNEMi0m",
        "outputId": "784ac714-4b24-4ccd-e2bb-58a2d0acc3f3"
      },
      "execution_count": 447,
      "outputs": [
        {
          "output_type": "execute_result",
          "data": {
            "text/plain": [
              "array([[1, 1],\n",
              "       [4, 1]])"
            ]
          },
          "metadata": {},
          "execution_count": 447
        }
      ]
    },
    {
      "cell_type": "markdown",
      "source": [
        "Se define la segunda sección de la expresión al multiplicar la matriz A por 2"
      ],
      "metadata": {
        "id": "Q_tC6J7SM0C-"
      }
    },
    {
      "cell_type": "code",
      "source": [
        "2*A"
      ],
      "metadata": {
        "colab": {
          "base_uri": "https://localhost:8080/"
        },
        "id": "G0GS2rDMM0wd",
        "outputId": "3ad78323-2ad5-4895-e12d-d81b4c36d02e"
      },
      "execution_count": 448,
      "outputs": [
        {
          "output_type": "execute_result",
          "data": {
            "text/plain": [
              "array([[ 2, -2],\n",
              "       [ 4,  2]])"
            ]
          },
          "metadata": {},
          "execution_count": 448
        }
      ]
    },
    {
      "cell_type": "markdown",
      "source": [
        "Definir la matriz identidad"
      ],
      "metadata": {
        "id": "trrmTSfDKK_p"
      }
    },
    {
      "cell_type": "code",
      "source": [
        "I = np.array([[1, 0],\n",
        "              [0, 1]])"
      ],
      "metadata": {
        "id": "c8jX9kOeOqgz"
      },
      "execution_count": 449,
      "outputs": []
    },
    {
      "cell_type": "code",
      "source": [
        "I"
      ],
      "metadata": {
        "colab": {
          "base_uri": "https://localhost:8080/"
        },
        "id": "pEC0smDqPJ5q",
        "outputId": "2735a1f1-2f7f-414e-e21a-69f7615b64e1"
      },
      "execution_count": 450,
      "outputs": [
        {
          "output_type": "execute_result",
          "data": {
            "text/plain": [
              "array([[1, 0],\n",
              "       [0, 1]])"
            ]
          },
          "metadata": {},
          "execution_count": 450
        }
      ]
    },
    {
      "cell_type": "markdown",
      "source": [
        "Luego se agrega el término independiente, el cual es 3 para que asi quede expresado en matrices"
      ],
      "metadata": {
        "id": "PC9bxMUkPjQh"
      }
    },
    {
      "cell_type": "code",
      "source": [
        "3*I"
      ],
      "metadata": {
        "colab": {
          "base_uri": "https://localhost:8080/"
        },
        "id": "8z6sN8bmPeli",
        "outputId": "1814074b-6579-4491-f170-eba6a861f2dc"
      },
      "execution_count": 451,
      "outputs": [
        {
          "output_type": "execute_result",
          "data": {
            "text/plain": [
              "array([[3, 0],\n",
              "       [0, 3]])"
            ]
          },
          "metadata": {},
          "execution_count": 451
        }
      ]
    },
    {
      "cell_type": "markdown",
      "source": [
        "Finalmente se organiza toda la expresión"
      ],
      "metadata": {
        "id": "8Ds9FoPhPylZ"
      }
    },
    {
      "cell_type": "code",
      "source": [
        "A**2 - 2*A + 3*I"
      ],
      "metadata": {
        "colab": {
          "base_uri": "https://localhost:8080/"
        },
        "id": "fX_WhXamP9aJ",
        "outputId": "cb9bc5d4-9223-41b6-86cc-b8e97183e10c"
      },
      "execution_count": 452,
      "outputs": [
        {
          "output_type": "execute_result",
          "data": {
            "text/plain": [
              "array([[2, 3],\n",
              "       [0, 2]])"
            ]
          },
          "metadata": {},
          "execution_count": 452
        }
      ]
    },
    {
      "cell_type": "markdown",
      "metadata": {
        "id": "X0XpdHLNzYAC"
      },
      "source": [
        "## Solving Matrix equations\n",
        "\n",
        "We can use Numpy to (efficiently) solve large systems of equations of the form:\n",
        "\n",
        "$$Ax=b$$\n",
        "\n",
        "Let us illustrate that with:\n",
        "\n",
        "$$\n",
        "A = \\begin{pmatrix}\n",
        "5 & 6 & 2\\\\\n",
        "4 & 7 & 19\\\\\n",
        "0 & 3 & 12\n",
        "\\end{pmatrix}\n",
        "$$\n",
        "\n",
        "$$\n",
        "b = \\begin{pmatrix}\n",
        "-1\\\\\n",
        "2\\\\\n",
        "1\n",
        "\\end{pmatrix}\n",
        "$$"
      ]
    },
    {
      "cell_type": "code",
      "execution_count": 453,
      "metadata": {
        "id": "R1CALuF6zYAE"
      },
      "outputs": [],
      "source": [
        "A = np.array([[5, 6, 2],\n",
        "               [4, 7, 19],\n",
        "               [0, 3, 12]])\n",
        "b = np.array([[-1], [2], [1]])"
      ]
    },
    {
      "cell_type": "markdown",
      "metadata": {
        "id": "bnFh8G4MzYAG"
      },
      "source": [
        "We use the `linalg.solve` command:"
      ]
    },
    {
      "cell_type": "code",
      "execution_count": 454,
      "metadata": {
        "colab": {
          "base_uri": "https://localhost:8080/"
        },
        "id": "aLgDeASqzYAH",
        "outputId": "adf5c980-e0f8-451d-9c12-e9c819752fe8"
      },
      "outputs": [
        {
          "output_type": "execute_result",
          "data": {
            "text/plain": [
              "array([[ 0.45736434],\n",
              "       [-0.62790698],\n",
              "       [ 0.24031008]])"
            ]
          },
          "metadata": {},
          "execution_count": 454
        }
      ],
      "source": [
        "x = np.linalg.solve(A, b)\n",
        "x"
      ]
    },
    {
      "cell_type": "markdown",
      "metadata": {
        "id": "3Abn5IkizYAI"
      },
      "source": [
        "We can verify our result:"
      ]
    },
    {
      "cell_type": "code",
      "execution_count": 455,
      "metadata": {
        "colab": {
          "base_uri": "https://localhost:8080/"
        },
        "id": "puPXV8E8zYAI",
        "outputId": "06d90a34-f253-40ca-fb18-bad0e2d44922"
      },
      "outputs": [
        {
          "output_type": "execute_result",
          "data": {
            "text/plain": [
              "array([[-1.],\n",
              "       [ 2.],\n",
              "       [ 1.]])"
            ]
          },
          "metadata": {},
          "execution_count": 455
        }
      ],
      "source": [
        "A @ x"
      ]
    },
    {
      "cell_type": "markdown",
      "metadata": {
        "id": "bcrHxjAA1TMe"
      },
      "source": [
        "---\n",
        "\n",
        "**EXERCISE** Compute the solutions to the matrix equation $Bx=b$ (using the $B$ defined earlier).\n",
        "\n",
        "---"
      ]
    },
    {
      "cell_type": "code",
      "execution_count": 456,
      "metadata": {
        "id": "BopE0Js21UQZ"
      },
      "outputs": [],
      "source": [
        "# Write the solution here"
      ]
    },
    {
      "cell_type": "markdown",
      "source": [
        "Ilustramos la matriz B en cuestión"
      ],
      "metadata": {
        "id": "zfRIdKwSUr0q"
      }
    },
    {
      "cell_type": "code",
      "source": [
        "B = np.array([[14, -2, 12],\n",
        "               [4, 4, 5],\n",
        "               [5, 5, 1]])\n",
        "\n",
        "b = np.array([[-1], [2], [1]])"
      ],
      "metadata": {
        "id": "DDjn8XOoUsKq"
      },
      "execution_count": 457,
      "outputs": []
    },
    {
      "cell_type": "markdown",
      "source": [
        "We use the linalg.solve command:"
      ],
      "metadata": {
        "id": "u99MjpTrXlBW"
      }
    },
    {
      "cell_type": "code",
      "source": [
        "x = np.linalg.solve(B, b)\n",
        "x"
      ],
      "metadata": {
        "id": "lrAZX2XMXlYe",
        "outputId": "9d5e41aa-e979-4c91-c162-c59cd8544d37",
        "colab": {
          "base_uri": "https://localhost:8080/"
        }
      },
      "execution_count": 458,
      "outputs": [
        {
          "output_type": "execute_result",
          "data": {
            "text/plain": [
              "array([[-0.25892857],\n",
              "       [ 0.40178571],\n",
              "       [ 0.28571429]])"
            ]
          },
          "metadata": {},
          "execution_count": 458
        }
      ]
    },
    {
      "cell_type": "markdown",
      "source": [
        "We can verify our result:"
      ],
      "metadata": {
        "id": "eEXRodcUXZKW"
      }
    },
    {
      "cell_type": "code",
      "source": [
        "B @ x"
      ],
      "metadata": {
        "id": "bwgKYYqhXyAl",
        "outputId": "58eda10c-821f-4868-b542-7028e085a6fb",
        "colab": {
          "base_uri": "https://localhost:8080/"
        }
      },
      "execution_count": 459,
      "outputs": [
        {
          "output_type": "execute_result",
          "data": {
            "text/plain": [
              "array([[-1.],\n",
              "       [ 2.],\n",
              "       [ 1.]])"
            ]
          },
          "metadata": {},
          "execution_count": 459
        }
      ]
    },
    {
      "cell_type": "markdown",
      "metadata": {
        "id": "h0pN62P4zYAJ"
      },
      "source": [
        "## Matrix inversion and determinants\n",
        "\n",
        "Computing the inverse of a matrix is straightforward:"
      ]
    },
    {
      "cell_type": "code",
      "execution_count": 460,
      "metadata": {
        "colab": {
          "base_uri": "https://localhost:8080/"
        },
        "id": "YkZVkHemzYAK",
        "outputId": "ec9e3125-5868-47ec-a2f6-6573ac1de41e"
      },
      "outputs": [
        {
          "output_type": "execute_result",
          "data": {
            "text/plain": [
              "array([[-0.20930233,  0.51162791, -0.7751938 ],\n",
              "       [ 0.37209302, -0.46511628,  0.6744186 ],\n",
              "       [-0.09302326,  0.11627907, -0.08527132]])"
            ]
          },
          "metadata": {},
          "execution_count": 460
        }
      ],
      "source": [
        "Ainv = np.linalg.inv(A)\n",
        "Ainv"
      ]
    },
    {
      "cell_type": "markdown",
      "metadata": {
        "id": "V92UrOm9zYAK"
      },
      "source": [
        "We can verify that $A^{-1}A=\\mathbb{1}$:"
      ]
    },
    {
      "cell_type": "code",
      "execution_count": 461,
      "metadata": {
        "colab": {
          "base_uri": "https://localhost:8080/"
        },
        "id": "FDSczBjMzYAL",
        "outputId": "b1c0fd05-553d-49e8-9bd2-07d9b1b28923",
        "tags": [
          "nbval-ignore-output"
        ]
      },
      "outputs": [
        {
          "output_type": "execute_result",
          "data": {
            "text/plain": [
              "array([[ 1.00000000e+00,  4.99600361e-16, -4.71844785e-16],\n",
              "       [ 1.38777878e-16,  1.00000000e+00, -2.63677968e-16],\n",
              "       [ 1.11022302e-16,  1.11022302e-16,  1.00000000e+00]])"
            ]
          },
          "metadata": {},
          "execution_count": 461
        }
      ],
      "source": [
        "A @ Ainv"
      ]
    },
    {
      "cell_type": "markdown",
      "metadata": {
        "id": "eme83ESCzYAL"
      },
      "source": [
        "The above might not look like the identity matrix but if you look closer you see that the diagonals are all `1` and the off diagonals are a **very** small number (which from a computer's point of view is `0`).\n",
        "\n",
        "We can also verify that `A @ Ainv` is close to the identity matrix `np.eye()` using the `np.allclose()` command."
      ]
    },
    {
      "cell_type": "code",
      "source": [
        "# Run this command to check that A @ Ainv is close to I\n",
        "np.allclose(A @ Ainv, np.eye(3,3))"
      ],
      "metadata": {
        "colab": {
          "base_uri": "https://localhost:8080/"
        },
        "id": "YFvYO4j98HGk",
        "outputId": "9dbf7071-49c1-4b32-a6b0-d2ceeba46551"
      },
      "execution_count": 462,
      "outputs": [
        {
          "output_type": "execute_result",
          "data": {
            "text/plain": [
              "True"
            ]
          },
          "metadata": {},
          "execution_count": 462
        }
      ]
    },
    {
      "cell_type": "markdown",
      "metadata": {
        "id": "3zFLJ0bVzYAM"
      },
      "source": [
        "To calculate the determinant:"
      ]
    },
    {
      "cell_type": "code",
      "execution_count": 463,
      "metadata": {
        "colab": {
          "base_uri": "https://localhost:8080/"
        },
        "id": "koPyt0w3zYAM",
        "outputId": "4f7b479c-88fc-40a6-e114-3345871e670c",
        "tags": [
          "nbval-ignore-output"
        ]
      },
      "outputs": [
        {
          "output_type": "execute_result",
          "data": {
            "text/plain": [
              "np.float64(-129.00000000000009)"
            ]
          },
          "metadata": {},
          "execution_count": 463
        }
      ],
      "source": [
        "np.linalg.det(A)"
      ]
    },
    {
      "cell_type": "markdown",
      "metadata": {
        "id": "txxPAddm1hBS"
      },
      "source": [
        "---\n",
        "\n",
        "**EXERCISE** Compute the inverse and determinant of $B$ (defined previously).\n",
        "\n",
        "---"
      ]
    },
    {
      "cell_type": "code",
      "execution_count": 464,
      "metadata": {
        "id": "InU_qgzM1iB4"
      },
      "outputs": [],
      "source": [
        "# Write the solution here"
      ]
    },
    {
      "cell_type": "markdown",
      "source": [
        "## Rotations\n",
        "\n",
        "Rotation is a fundamental operation in computer graphics, robotics, and many other fields. In this exercise, you will create a 2D rotation matrix and apply it to a set of points.\n",
        "\n"
      ],
      "metadata": {
        "id": "u9loI_iq_3rg"
      }
    },
    {
      "cell_type": "markdown",
      "source": [
        "Generate a set of points in 2D forming a square. You can do this manually or use the `np.mgrid` function."
      ],
      "metadata": {
        "id": "cBqutQ9QAKWC"
      }
    },
    {
      "cell_type": "code",
      "source": [
        "points = np.array([[1, 1, -1, -1, 1], [1, -1, -1, 1, 1]])"
      ],
      "metadata": {
        "id": "7fzb7QucAMv2"
      },
      "execution_count": 465,
      "outputs": []
    },
    {
      "cell_type": "markdown",
      "source": [
        "Create a function that returns a 2D rotation matrix given an angle in degrees. The rotation matrix for a counterclockwise rotation by an angle $\\theta$ in 2D is:\n",
        "\n",
        "\\begin{bmatrix}\n",
        "\\cos(\\theta) & -\\sin(\\theta) \\\\\\\\\n",
        "\\sin(\\theta) & \\cos(\\theta)\n",
        "\\end{bmatrix}\n"
      ],
      "metadata": {
        "id": "vnt6X4Q_Azu3"
      }
    },
    {
      "cell_type": "code",
      "source": [
        "# Here is the function\n",
        "def rotation_matrix(theta):\n",
        "    theta_rad = np.deg2rad(theta)\n",
        "    R = np.array([[np.cos(theta_rad), -np.sin(theta_rad)],\n",
        "                  [np.sin(theta_rad), np.cos(theta_rad)]])\n",
        "    return R\n"
      ],
      "metadata": {
        "id": "R7gRsrlgA_zd"
      },
      "execution_count": 466,
      "outputs": []
    },
    {
      "cell_type": "markdown",
      "source": [
        "Apply the rotation matrix to the set of points for a few different angles (e.g., 45, 90, 180 degrees) and plot the original points and the transformed points using `plt.plot()`. You should see the square rotate.\n",
        "\n",
        "Dont'forget to import matplotlib for plotting."
      ],
      "metadata": {
        "id": "hNlTNuq6BHic"
      }
    },
    {
      "cell_type": "code",
      "source": [
        "import matplotlib.pyplot as plt\n",
        "\n",
        "for theta in [45, 90, 180]:\n",
        "    R = rotation_matrix(theta)\n",
        "    rotated_points = R @ points\n",
        "    plt.figure()\n",
        "    plt.plot(points[0, :], points[1, :], 'b-', label='Original')\n",
        "    plt.plot(rotated_points[0, :], rotated_points[1, :], 'r-', label='Rotated')\n",
        "    plt.axis('equal')\n",
        "    plt.legend()\n",
        "    plt.title(f'Rotation by {theta} degrees')\n",
        "    plt.show()\n"
      ],
      "metadata": {
        "colab": {
          "base_uri": "https://localhost:8080/",
          "height": 1000
        },
        "id": "vVXSbXZ-BLEJ",
        "outputId": "c69ab2bc-a826-463a-ca7b-2f54f805ec06"
      },
      "execution_count": 467,
      "outputs": [
        {
          "output_type": "display_data",
          "data": {
            "text/plain": [
              "<Figure size 640x480 with 1 Axes>"
            ],
            "image/png": "[encoded data removed]"
          },
          "metadata": {}
        },
        {
          "output_type": "display_data",
          "data": {
            "text/plain": [
              "<Figure size 640x480 with 1 Axes>"
            ],
            "image/png": "[encoded data removed]"
          },
          "metadata": {}
        },
        {
          "output_type": "display_data",
          "data": {
            "text/plain": [
              "<Figure size 640x480 with 1 Axes>"
            ],
            "image/png": "[encoded data removed]"
          },
          "metadata": {}
        }
      ]
    },
    {
      "cell_type": "markdown",
      "source": [
        "---\n",
        "\n",
        "**EXERCISE** Generate a triangle, and apply the same rotation. Observe how the shape changes with different rotation angles.\n",
        "\n",
        "---"
      ],
      "metadata": {
        "id": "9_wYLyRD_sYJ"
      }
    },
    {
      "cell_type": "code",
      "source": [
        "# Write the solution here"
      ],
      "metadata": {
        "id": "doaW5G78CKT7"
      },
      "execution_count": 468,
      "outputs": []
    },
    {
      "cell_type": "markdown",
      "source": [
        "## Exercise for Graduate students: Image Compression and Reconstruction using SVD\n",
        "\n",
        "Use Singular Value Decomposition (SVD) to compress and reconstruct an image, exploring the trade-offs between compression ratio and image quality. This exercise will highlight the utility of SVD in practical image processing tasks."
      ],
      "metadata": {
        "id": "9vwRIogicYyU"
      }
    },
    {
      "cell_type": "markdown",
      "source": [
        "### Steps\n",
        "\n",
        "#### 1. Image Preparation\n",
        "- Load a grayscale image into a Numpy array.\n",
        "- Display the original image.\n",
        "\n",
        "#### 2. Applying SVD\n",
        "- Perform SVD on the image matrix to obtain U, Σ, and V^T.\n",
        "- Display the shapes of U, Σ, and V^T.\n",
        "\n",
        "#### 3. Image Compression\n",
        "- Choose a set of singular values (e.g., first 10, 20).\n",
        "- Reconstruct the image using only the chosen singular values.\n",
        "- Repeat with different numbers of singular values to explore different compression levels.\n",
        "\n",
        "#### 4. Visualization and Analysis\n",
        "- Display original and compressed images side by side.\n",
        "- Discuss the compression ratio and impact on image quality for each compression level.\n",
        "\n",
        "#### 5. Advanced Exploration (Optional)\n",
        "- Test the compression on different image types.\n",
        "- Explore SVD in noise reduction by altering singular values before reconstruction.\n",
        "\n",
        "### Requirements\n",
        "- Use Numpy for SVD and matrix operations.\n",
        "- Use matplotlib or similar for image handling.\n",
        "- Provide explanations for each step, emphasizing the principles and applications of SVD."
      ],
      "metadata": {
        "id": "cmCSCJeic7Ni"
      }
    },
    {
      "cell_type": "code",
      "source": [
        "# Write the solution here"
      ],
      "metadata": {
        "id": "YjezAlr-dSYM"
      },
      "execution_count": 469,
      "outputs": []
    },
    {
      "cell_type": "markdown",
      "metadata": {
        "id": "N3MPDa5UzYAN"
      },
      "source": [
        "## Summary\n",
        "\n",
        "In this section we have seen how to using Numpy:\n",
        "\n",
        "- Manipulate matrices;\n",
        "- Solve linear systems;\n",
        "- Compute Matrix inverses and determinants.\n",
        "\n",
        "This again just touches on the capabilities of Numpy. For more information please refer to this [Python tutorial.](https://github.com/kuleshov/teaching-material/blob/master/tutorials/python/cs228-python-tutorial.ipynb)"
      ]
    }
  ],
  "metadata": {
    "anaconda-cloud": {},
    "celltoolbar": "Tags",
    "colab": {
      "provenance": [],
      "include_colab_link": true
    },
    "kernelspec": {
      "display_name": "Python 3 (ipykernel)",
      "language": "python",
      "name": "python3"
    },
    "language_info": {
      "codemirror_mode": {
        "name": "ipython",
        "version": 3
      },
      "file_extension": ".py",
      "mimetype": "text/x-python",
      "name": "python",
      "nbconvert_exporter": "python",
      "pygments_lexer": "ipython3",
      "version": "3.9.12"
    }
  },
  "nbformat": 4,
  "nbformat_minor": 0
}